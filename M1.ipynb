{
 "cells": [
  {
   "cell_type": "markdown",
   "id": "fc6f06d2-59f6-4bb5-8430-81267deeb8c9",
   "metadata": {},
   "source": [
    "#### Tipe Data"
   ]
  },
  {
   "cell_type": "code",
   "execution_count": 1,
   "id": "d880db8a-7ffb-4d58-b844-73f01d5601f3",
   "metadata": {},
   "outputs": [
    {
     "name": "stdout",
     "output_type": "stream",
     "text": [
      "Tipe data 2.2 adalah <class 'float'>\n"
     ]
    }
   ],
   "source": [
    "a=2.2\n",
    "print(\"Tipe data\", a, \"adalah\", type(a))"
   ]
  },
  {
   "cell_type": "code",
   "execution_count": 17,
   "id": "7b9e4ef5-f6af-47b5-89ac-f38e56d970e9",
   "metadata": {},
   "outputs": [
    {
     "name": "stdout",
     "output_type": "stream",
     "text": [
      "Tipe data Caca adalah <class 'str'>\n",
      "Tipe data 7 adalah <class 'int'>\n",
      "False\n",
      "Tipe data False adalah <class 'bool'>\n"
     ]
    }
   ],
   "source": [
    "b=\"Caca\"\n",
    "print(\"Tipe data\", b, \"adalah\", type(b))\n",
    "c=7\n",
    "print(\"Tipe data\", c, \"adalah\", type(c))\n",
    "d=1<0\n",
    "print(d)\n",
    "print(\"Tipe data\", d, \"adalah\", type(d))"
   ]
  },
  {
   "cell_type": "markdown",
   "id": "5415fe8f-0374-443d-8a03-a9d9e911c96d",
   "metadata": {},
   "source": [
    "#### end=\" \" , untuk mencetak tanpa enter (spasi)"
   ]
  },
  {
   "cell_type": "code",
   "execution_count": 27,
   "id": "999b1268-d50b-4318-8816-c9dfb2191391",
   "metadata": {},
   "outputs": [
    {
     "name": "stdout",
     "output_type": "stream",
     "text": [
      "Halo\n",
      "Caca\n"
     ]
    }
   ],
   "source": [
    "print(\"Halo\")\n",
    "print(\"Caca\")"
   ]
  },
  {
   "cell_type": "code",
   "execution_count": 3,
   "id": "d305ba60-8eb4-4e50-9a33-8ef4156f0a69",
   "metadata": {},
   "outputs": [
    {
     "name": "stdout",
     "output_type": "stream",
     "text": [
      "HaloCaca\n"
     ]
    }
   ],
   "source": [
    "print(\"Halo\", end=\"\")\n",
    "print(\"Caca\")"
   ]
  },
  {
   "cell_type": "code",
   "execution_count": 31,
   "id": "73b06655-e391-4db6-8282-31c7b5644ee6",
   "metadata": {},
   "outputs": [
    {
     "name": "stdout",
     "output_type": "stream",
     "text": [
      "Hallo Caca\n"
     ]
    }
   ],
   "source": [
    "print(\"Hallo\", end=\" \")\n",
    "print(\"Caca\")"
   ]
  },
  {
   "cell_type": "markdown",
   "id": "bf6b8c29-0146-41a3-835f-c465c4af6b98",
   "metadata": {},
   "source": [
    "#### print(\" \"), untuk pindah baris 1 kali tanpa mencetak apa2"
   ]
  },
  {
   "cell_type": "code",
   "execution_count": 42,
   "id": "65f2af22-5465-4a68-a454-6fa8da1521fe",
   "metadata": {},
   "outputs": [
    {
     "name": "stdout",
     "output_type": "stream",
     "text": [
      "Pagiee\n",
      "\n",
      "Apa Kabarr?\n"
     ]
    }
   ],
   "source": [
    "print(\"Pagiee\")\n",
    "print(\"\")\n",
    "print(\"Apa Kabarr?\")"
   ]
  },
  {
   "cell_type": "markdown",
   "id": "c3ec866a-3b2d-4fe0-8562-edffb5452eec",
   "metadata": {},
   "source": [
    "#### \"\\n\" , untuk Mencetak dengan Enter"
   ]
  },
  {
   "cell_type": "code",
   "execution_count": 55,
   "id": "77dbb12f-ccee-422d-bff6-6f6a1ab097d9",
   "metadata": {},
   "outputs": [
    {
     "name": "stdout",
     "output_type": "stream",
     "text": [
      "selamat pagi \n",
      "\n",
      "iya pagii\n",
      "Apa Kabarmu? \n",
      "\n",
      "Baikk\n",
      "\n",
      "Alhamdulillah\n"
     ]
    }
   ],
   "source": [
    "print(\"selamat pagi\", \"\\n\")\n",
    "print(\"iya pagii\")\n",
    "a=\"Apa Kabarmu?\"\n",
    "print(a, \"\\n\")\n",
    "print(\"Baikk\")\n",
    "print(\"\\nAlhamdulillah\")"
   ]
  },
  {
   "cell_type": "markdown",
   "id": "bc32bd88-f610-43a1-8137-17863c02e21c",
   "metadata": {},
   "source": [
    "#### \"\\t\" , untuk mencetak dengan Tab"
   ]
  },
  {
   "cell_type": "code",
   "execution_count": 69,
   "id": "a0d96882-fb70-4264-b48b-201de2c9c97e",
   "metadata": {},
   "outputs": [
    {
     "name": "stdout",
     "output_type": "stream",
     "text": [
      "\tParagraf ini\n",
      "adalah paragraf pertama \t\n",
      "hahaha \t\n"
     ]
    }
   ],
   "source": [
    "print(\"\\tParagraf ini\")\n",
    "print(\"adalah paragraf pertama\",\"\\t\")\n",
    "a=\"hahaha\"\n",
    "print(a, \"\\t\")"
   ]
  },
  {
   "cell_type": "markdown",
   "id": "7b54374e-a1c0-4799-94d0-9e85927228dd",
   "metadata": {},
   "source": [
    "#### Konversi tipe data"
   ]
  },
  {
   "cell_type": "code",
   "execution_count": 77,
   "id": "1e008a4e-7ec7-45d2-8439-647b56fcf9ec",
   "metadata": {},
   "outputs": [
    {
     "name": "stdin",
     "output_type": "stream",
     "text": [
      "Masukkan Panjang:  5\n",
      "Masukkan Lebar 9\n"
     ]
    },
    {
     "name": "stdout",
     "output_type": "stream",
     "text": [
      "45\n"
     ]
    }
   ],
   "source": [
    "a= input('Masukkan Panjang: ')\n",
    "a= int(a)\n",
    "b= input(\"Masukkan Lebar\")\n",
    "b= int(b)\n",
    "c= a*b \n",
    "print(c)"
   ]
  },
  {
   "cell_type": "code",
   "execution_count": 88,
   "id": "fe632b57-2537-4480-a00f-be867d2f87ff",
   "metadata": {},
   "outputs": [
    {
     "ename": "SyntaxError",
     "evalue": "invalid syntax. Perhaps you forgot a comma? (4203580371.py, line 1)",
     "output_type": "error",
     "traceback": [
      "\u001b[1;36m  Cell \u001b[1;32mIn[88], line 1\u001b[1;36m\u001b[0m\n\u001b[1;33m    a= input(int(\"Masukkan Panjang: \")\u001b[0m\n\u001b[1;37m             ^\u001b[0m\n\u001b[1;31mSyntaxError\u001b[0m\u001b[1;31m:\u001b[0m invalid syntax. Perhaps you forgot a comma?\n"
     ]
    }
   ],
   "source": [
    "a= input(int(\"Masukkan Panjang: \")\n",
    "b= input(int(\"Masukkan Lebar: \")\n",
    "c= a*b\n",
    "print(c)"
   ]
  },
  {
   "cell_type": "code",
   "execution_count": 94,
   "id": "60f6c8a8-b11f-4f48-a972-798b92458c69",
   "metadata": {},
   "outputs": [
    {
     "name": "stdout",
     "output_type": "stream",
     "text": [
      "Tipe data a adalah <class 'str'>\n"
     ]
    }
   ],
   "source": [
    "a= '1000'\n",
    "print(\"Tipe data a adalah\", type(a))"
   ]
  },
  {
   "cell_type": "code",
   "execution_count": 3,
   "id": "3cfd2f53-1be6-426d-8c5a-3f0c9c746765",
   "metadata": {},
   "outputs": [
    {
     "name": "stdout",
     "output_type": "stream",
     "text": [
      "No Nama NIM\n",
      "------------------------------\n",
      "1 Regita Putri Permata 22960008\n",
      "2 Zahira Kayla 103102400022\n",
      "3 Adinda Citra 103102400001\n"
     ]
    }
   ],
   "source": [
    "mahasiswa = [\n",
    "    [1, \"Regita Putri Permata\", \"22960008\"],\n",
    "    [2, \"Zahira Kayla\", \"103102400022\"],\n",
    "    [3, \"Adinda Citra\", \"103102400001\"]\n",
    "]\n",
    "print(\"No Nama NIM\")\n",
    "print(\"-\" * 30)\n",
    "for mhs in mahasiswa : \n",
    "    print(mhs[0], mhs[1], mhs[2])"
   ]
  },
  {
   "cell_type": "code",
   "execution_count": 25,
   "id": "5814752c-c391-4e38-bca1-1ed9f709ab35",
   "metadata": {},
   "outputs": [
    {
     "name": "stdout",
     "output_type": "stream",
     "text": [
      "Nama saya adalah Caca dan saya berumur 18 tahun.\n"
     ]
    }
   ],
   "source": [
    "nama = \"Caca\"\n",
    "umur = 18\n",
    "print(f\"Nama saya adalah {nama} dan saya berumur {umur} tahun.\")"
   ]
  },
  {
   "cell_type": "markdown",
   "id": "698b1e9d-cc32-4aab-98ef-0b4dc70c3f50",
   "metadata": {},
   "source": [
    "#### f string untuk memformat angka dgn dua digit"
   ]
  },
  {
   "cell_type": "code",
   "execution_count": 30,
   "id": "a0539320-54be-493a-addd-be8c6b724e8d",
   "metadata": {},
   "outputs": [
    {
     "name": "stdin",
     "output_type": "stream",
     "text": [
      "Waktu mulai (jam):  2\n",
      "Waktu mulai (menit):  10\n",
      "Durasi kegiatan (minutes):  30\n"
     ]
    },
    {
     "name": "stdout",
     "output_type": "stream",
     "text": [
      "Kegiatan selesai pada jam 02:40\n"
     ]
    }
   ],
   "source": [
    "# input waktu mulai\n",
    "jam = int(input(\"Waktu mulai (jam): \"))\n",
    "menit = int(input(\"Waktu mulai (menit): \"))\n",
    "# input durasi kegiatan\n",
    "durasi = int(input(\"Durasi kegiatan (minutes): \"))\n",
    "# menambahkan durasi ke waktu mulai\n",
    "menit += durasi\n",
    "if menit >= 60:\n",
    "    jam += menit // 60\n",
    "    menit = menit % 60\n",
    "print(f\"Kegiatan selesai pada jam {jam:02}:{menit:02}\")"
   ]
  },
  {
   "cell_type": "code",
   "execution_count": 48,
   "id": "7ffdfb74-63bf-451c-9bbb-3cb6a93fc051",
   "metadata": {},
   "outputs": [
    {
     "name": "stdout",
     "output_type": "stream",
     "text": [
      "caca \n",
      "dan \n",
      "fatih\n"
     ]
    }
   ],
   "source": [
    "teks_multibaris='''caca \n",
    "dan \n",
    "fatih'''\n",
    "print(teks_multibaris)"
   ]
  },
  {
   "cell_type": "code",
   "execution_count": 50,
   "id": "e8a9e842-9748-4a3c-ae4b-aff36db0fc59",
   "metadata": {},
   "outputs": [
    {
     "name": "stdin",
     "output_type": "stream",
     "text": [
      "Masukkan nama Anda:  caca\n",
      "Berapa harganya?:  24000\n"
     ]
    },
    {
     "name": "stdout",
     "output_type": "stream",
     "text": [
      "\n",
      "Halo, aku caca dan aku sudah makan ayam goreng yang harganya Rp 24000\n"
     ]
    }
   ],
   "source": [
    "nama = input(\"Masukkan nama Anda: \")\n",
    "makan = 'sudah'\n",
    "harga = int(input(\"Berapa harganya?: \"))\n",
    "\n",
    "print(f\"\\nHalo, aku {nama} dan aku {makan} makan ayam goreng yang harganya Rp {harga}\")"
   ]
  },
  {
   "cell_type": "code",
   "execution_count": 52,
   "id": "9f5ac26f-fc1a-4da8-96a7-b7286a786f1f",
   "metadata": {},
   "outputs": [
    {
     "name": "stdout",
     "output_type": "stream",
     "text": [
      "16\n"
     ]
    }
   ],
   "source": [
    "a=2**4\n",
    "print(a)"
   ]
  },
  {
   "cell_type": "code",
   "execution_count": 74,
   "id": "347cbd03-17d8-4efa-8974-e44b8f5bac9d",
   "metadata": {},
   "outputs": [],
   "source": [
    "import math"
   ]
  },
  {
   "cell_type": "code",
   "execution_count": 76,
   "id": "3f309bbd-1f3e-4e20-82bf-63a1ae3cc523",
   "metadata": {},
   "outputs": [
    {
     "name": "stdin",
     "output_type": "stream",
     "text": [
      "Masukkan bilangan:  4\n"
     ]
    },
    {
     "name": "stdout",
     "output_type": "stream",
     "text": [
      "Akar kuadrat: 2.0\n"
     ]
    }
   ],
   "source": [
    "bilangan = float(input(\"Masukkan bilangan: \"))\n",
    "hasil = math.sqrt(bilangan)\n",
    "print(f\"Akar kuadrat: {hasil}\")"
   ]
  },
  {
   "cell_type": "code",
   "execution_count": 85,
   "id": "4b185f9c-dcfe-4657-bdd1-f28ed8fa6fd0",
   "metadata": {},
   "outputs": [
    {
     "name": "stdin",
     "output_type": "stream",
     "text": [
      "Masukkan nilai a:  2\n",
      "Masukkan nilai b:  -5\n",
      "Masukkan nilai c:  3\n"
     ]
    },
    {
     "name": "stdout",
     "output_type": "stream",
     "text": [
      "1.5 1.0\n"
     ]
    }
   ],
   "source": [
    "a = int(input(\"Masukkan nilai a: \"))\n",
    "b = int(input(\"Masukkan nilai b: \"))\n",
    "c = int(input(\"Masukkan nilai c: \"))\n",
    "diskriminan = (b**2) - 4*a*c\n",
    "\n",
    "x1 = (-b + math.sqrt(diskriminan)) / (2*a)\n",
    "x2 = (-b - math.sqrt(diskriminan)) / (2*a)\n",
    "\n",
    "print(x1,x2)"
   ]
  },
  {
   "cell_type": "code",
   "execution_count": 87,
   "id": "108d4901-0552-460a-a8e8-18f06f3b62ab",
   "metadata": {},
   "outputs": [
    {
     "name": "stdout",
     "output_type": "stream",
     "text": [
      "35.0\n"
     ]
    }
   ],
   "source": [
    "b = [25, 50, 45, 50, 25, 20, 30]\n",
    "\n",
    "for i in b : \n",
    "    rata_rata=sum(b) / len(b)\n",
    "print(rata_rata)"
   ]
  },
  {
   "cell_type": "code",
   "execution_count": null,
   "id": "97fca656-dfe5-4566-8d99-e93f0e8fd65a",
   "metadata": {},
   "outputs": [],
   "source": []
  }
 ],
 "metadata": {
  "kernelspec": {
   "display_name": "Python 3 (ipykernel)",
   "language": "python",
   "name": "python3"
  },
  "language_info": {
   "codemirror_mode": {
    "name": "ipython",
    "version": 3
   },
   "file_extension": ".py",
   "mimetype": "text/x-python",
   "name": "python",
   "nbconvert_exporter": "python",
   "pygments_lexer": "ipython3",
   "version": "3.12.4"
  }
 },
 "nbformat": 4,
 "nbformat_minor": 5
}
