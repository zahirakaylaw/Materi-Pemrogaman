{
  "nbformat": 4,
  "nbformat_minor": 0,
  "metadata": {
    "colab": {
      "provenance": []
    },
    "kernelspec": {
      "name": "python3",
      "display_name": "Python 3"
    },
    "language_info": {
      "name": "python"
    }
  },
  "cells": [
    {
      "cell_type": "markdown",
      "source": [
        "# PENGENALAN PYTHON"
      ],
      "metadata": {
        "id": "c5zpEx-LncPD"
      }
    },
    {
      "cell_type": "markdown",
      "source": [
        "## Syntax Dasar"
      ],
      "metadata": {
        "id": "-Si4Nsbxnoig"
      }
    },
    {
      "cell_type": "markdown",
      "source": [
        "Syntax adalah aturan penulisan kode Python. Syntax yang benar akan memastikan bahwa kode dapat dijalankan dengan benar.\n",
        "\n",
        "Contoh Kode Python:"
      ],
      "metadata": {
        "id": "rG-g0r5GnqP_"
      }
    },
    {
      "cell_type": "code",
      "source": [
        "#string\n",
        "print('Hello World!') #Output menggunakan print()\n",
        "print(f'Hello World!')"
      ],
      "metadata": {
        "colab": {
          "base_uri": "https://localhost:8080/"
        },
        "id": "jXrwUVhPoBkC",
        "outputId": "361c71a4-000a-4cb6-be01-50ccefd535ad"
      },
      "execution_count": null,
      "outputs": [
        {
          "output_type": "stream",
          "name": "stdout",
          "text": [
            "Hello World!\n",
            "Hello World!\n"
          ]
        }
      ]
    },
    {
      "cell_type": "code",
      "source": [
        "print(\"Saya Zahira\")\n",
        "print(f\"Saya Zahira\")"
      ],
      "metadata": {
        "colab": {
          "base_uri": "https://localhost:8080/"
        },
        "id": "utNXf7SeoJXm",
        "outputId": "efd695d5-0326-4f94-fbec-331f246b4bd1"
      },
      "execution_count": null,
      "outputs": [
        {
          "output_type": "stream",
          "name": "stdout",
          "text": [
            "Saya Zahira\n",
            "Saya Zahira\n"
          ]
        }
      ]
    },
    {
      "cell_type": "markdown",
      "source": [
        "Kode di atas mencetak teks \"Hello, world!\" ke layar. Syntax yang benar adalah sebagai berikut:\n",
        "\n",
        "* Kata kunci print() digunakan untuk mencetak data ke layar.\n",
        "* Data yang akan dicetak diletakkan di dalam tanda kurung setelah kata kunci print().\n",
        "* Jika data yang akan dicetak adalah teks, maka harus dikelilingi dengan tanda kutip."
      ],
      "metadata": {
        "id": "YrXZwGOdLhZF"
      }
    },
    {
      "cell_type": "code",
      "source": [
        "print(16) #integer"
      ],
      "metadata": {
        "colab": {
          "base_uri": "https://localhost:8080/"
        },
        "id": "EOp3xZ-CoQ5X",
        "outputId": "e12bb9d6-b519-4a85-fe3f-28a2a5d82bee"
      },
      "execution_count": null,
      "outputs": [
        {
          "output_type": "stream",
          "name": "stdout",
          "text": [
            "16\n"
          ]
        }
      ]
    },
    {
      "cell_type": "code",
      "source": [
        "print(12.677) #float"
      ],
      "metadata": {
        "colab": {
          "base_uri": "https://localhost:8080/"
        },
        "id": "PjMcsyTDoTz-",
        "outputId": "4f8a3887-a3ff-425d-9bcc-4900d87ffe34"
      },
      "execution_count": null,
      "outputs": [
        {
          "output_type": "stream",
          "name": "stdout",
          "text": [
            "12.677\n"
          ]
        }
      ]
    },
    {
      "cell_type": "markdown",
      "source": [
        "## Komentar"
      ],
      "metadata": {
        "id": "mYccfLPnobLx"
      }
    },
    {
      "cell_type": "markdown",
      "source": [
        "komentar biasa digunakan untuk menjelaskan kode python. Komentar tidak akan diinterpretasikan oleh Python dan hanya akan ditampilkan sebagai teks."
      ],
      "metadata": {
        "id": "QyN2PosrM9nY"
      }
    },
    {
      "cell_type": "code",
      "source": [
        "# ini namanya komentar, diawali dengan tanda pagar(#)\n",
        "\"\"\"kalo ini\n",
        "namanya komentar\n",
        "multiline\"\"\"\n",
        "\n",
        "print(\"Komentar tidak akan mengeluarkan output apapun\")"
      ],
      "metadata": {
        "colab": {
          "base_uri": "https://localhost:8080/"
        },
        "id": "kv5nVnjKoYUI",
        "outputId": "26edfa2a-ec26-4a40-88ec-d7ac6a939cf3"
      },
      "execution_count": null,
      "outputs": [
        {
          "output_type": "stream",
          "name": "stdout",
          "text": [
            "Komentar tidak akan mengeluarkan output apapun\n"
          ]
        }
      ]
    },
    {
      "cell_type": "markdown",
      "source": [
        "## Variabel"
      ],
      "metadata": {
        "id": "FKVuA_2RooqM"
      }
    },
    {
      "cell_type": "markdown",
      "source": [
        "Variabel adalah media penyimpanan data yang nilainya dapat berubah selama proses eksekusi.\n",
        "*   Tidak perlu dideklarasikan tipe datanya.\n",
        "*   Variabel akan ada (terdeklarasikan) Ketika variable tersebut diberi nilai\n",
        "* Variabel harus diisi terlebih dahulu sebelum dipanggil\n",
        "* Nilai dapat berubah di dalam program\n",
        "* Tipe data secara otomatis dikenali oleh python dan interprete akan\n",
        "mengalokasikan memori sesuai dengan tipe data dari variable yang dikenali.\n",
        "* Tipe data dari sebuah variable dapat kita ubah di tengah-tengah program dengan\n",
        "menggunakan fungsi khusus, walaupun hal tersebut jarang dilakukan.\n",
        "* Bersifat case sensitive\n",
        "\n",
        "\n",
        "\n",
        "\n"
      ],
      "metadata": {
        "id": "G4bygKKEpizu"
      }
    },
    {
      "cell_type": "markdown",
      "source": [
        "Format penulisan :\n",
        "\n",
        "NamaVariabel = IsiVariabel"
      ],
      "metadata": {
        "id": "6gxvSkLqrDIN"
      }
    },
    {
      "cell_type": "code",
      "source": [
        "# Variabel\n",
        "Nama = Zahira\n",
        "umur = 18\n",
        "status_pernikahan = \"Belum menikah\"\n",
        "statuspernikahan = \"Menikah\""
      ],
      "metadata": {
        "id": "KHYIJuj-sFmI"
      },
      "execution_count": null,
      "outputs": []
    },
    {
      "cell_type": "markdown",
      "source": [
        "## Multistatement variable"
      ],
      "metadata": {
        "id": "ApHGJ4Cq0DTv"
      }
    },
    {
      "cell_type": "code",
      "source": [
        "nama = \"Zahira\"\n",
        "a = 10; b = 56\n",
        "kesibukan, keterangan = 'Berkuliah','Institut Teknologi Telkom Surabaya'\n"
      ],
      "metadata": {
        "id": "93qk9wJb0Lbq"
      },
      "execution_count": null,
      "outputs": []
    },
    {
      "cell_type": "code",
      "source": [
        "print(f\"Nama saya {nama} dan Umur saya adalah {a+b} Tahun dan sedang {kesibukan} di {keterangan}\")"
      ],
      "metadata": {
        "colab": {
          "base_uri": "https://localhost:8080/"
        },
        "id": "TddePRS80d4s",
        "outputId": "a63f997d-be3e-40dd-8219-a4addd772597"
      },
      "execution_count": null,
      "outputs": [
        {
          "output_type": "stream",
          "name": "stdout",
          "text": [
            "Nama saya Zahira dan Umur saya adalah 66 Tahun dan sedang Berkuliah di Institut Teknologi Telkom Surabaya\n"
          ]
        }
      ]
    },
    {
      "cell_type": "markdown",
      "source": [
        "## Pengaturan tampilan"
      ],
      "metadata": {
        "id": "vBMKwJtB2ieR"
      }
    },
    {
      "cell_type": "markdown",
      "source": [
        "* end=\" \" , untuk mencetak tanpa enter\n",
        "* print(\" \") , untuk pindah baris 1 kali tanpa mencetak apa2\n",
        "* \"\\n\" , untuk Mencetak dengan Enter\n",
        "* print(\"\\n\") , untuk Enter\n",
        "* \"\\t\" , untuk mencetak dengan Tab"
      ],
      "metadata": {
        "id": "1Y6MdxkV3WOr"
      }
    },
    {
      "cell_type": "code",
      "source": [
        "print(\"Hallo\", end=\" \")\n",
        "print(\"Caca\")\n",
        "print(\"\")\n",
        "print(\"Apa Kabarr?\")\n",
        "print(\"selamat pagi\", \"\\n\")\n",
        "print(\"iya pagii\")\n",
        "print(\"\\n\") #jarak enter nya lebih lebar\n",
        "print(\"\\tbuat paragraf bagus ini\")"
      ],
      "metadata": {
        "colab": {
          "base_uri": "https://localhost:8080/"
        },
        "id": "xHZ7Ijnb394K",
        "outputId": "c3507f90-773d-4cd4-dce0-c5efb906d0b9"
      },
      "execution_count": null,
      "outputs": [
        {
          "output_type": "stream",
          "name": "stdout",
          "text": [
            "Hallo Caca\n",
            "\n",
            "Apa Kabarr?\n",
            "selamat pagi \n",
            "\n",
            "iya pagii\n",
            "\n",
            "\n",
            "\tbuat paragraf bagus ini\n"
          ]
        }
      ]
    },
    {
      "cell_type": "markdown",
      "source": [
        "## Tipe Data"
      ],
      "metadata": {
        "id": "QP7wp9C8sRez"
      }
    },
    {
      "cell_type": "code",
      "source": [
        "nama = \"Zahira\"\n",
        "usia = 18\n",
        "tinggi = 2.56\n",
        "benar = True\n",
        "\n",
        "print(type(nama))\n",
        "print(type(usia))\n",
        "print(type(tinggi))\n",
        "print(type(benar))"
      ],
      "metadata": {
        "colab": {
          "base_uri": "https://localhost:8080/"
        },
        "id": "EGj9IMM3yuDD",
        "outputId": "809fae4c-7145-4a6d-e0f7-942db854d618"
      },
      "execution_count": null,
      "outputs": [
        {
          "output_type": "stream",
          "name": "stdout",
          "text": [
            "<class 'str'>\n",
            "<class 'int'>\n",
            "<class 'float'>\n",
            "<class 'bool'>\n"
          ]
        }
      ]
    },
    {
      "cell_type": "markdown",
      "source": [
        "Kode di atas mencetak tipe data dari setiap variabel.\n",
        "\n",
        "* Variabel nama adalah tipe data string.\n",
        "* Variabel usia adalah tipe data integer.\n",
        "* Variabel tinggi adalah tipe data float.\n",
        "* Variabel benar adalah tipe data boolean."
      ],
      "metadata": {
        "id": "xoFCNUiCMknp"
      }
    },
    {
      "cell_type": "markdown",
      "source": [
        "## Konversi tipe data"
      ],
      "metadata": {
        "id": "8MHbXNuq5wbF"
      }
    },
    {
      "cell_type": "code",
      "source": [
        "nim = 103102400022\n",
        "print(\"Tipe data nim adalah\", type(nim))\n",
        "nims = str(nim)\n",
        "print(\"Tipe data nims adalah\", type(nims))"
      ],
      "metadata": {
        "colab": {
          "base_uri": "https://localhost:8080/"
        },
        "id": "8ID8vf845wCy",
        "outputId": "f1e35373-0c3c-423a-8635-0eafc21589b8"
      },
      "execution_count": null,
      "outputs": [
        {
          "output_type": "stream",
          "name": "stdout",
          "text": [
            "Tipe data nim adalah <class 'int'>\n",
            "Tipe data nims adalah <class 'str'>\n"
          ]
        }
      ]
    },
    {
      "cell_type": "markdown",
      "source": [
        "## Input dari pengguna"
      ],
      "metadata": {
        "id": "NlmDJkpGAIsR"
      }
    },
    {
      "cell_type": "code",
      "source": [
        "nama = input(\"Masukkan nama Anda: \")\n",
        "makan = 'sudah'\n",
        "harga = int(input(\"Berapa harganya?: \"))\n",
        "\n",
        "print(f\"\\nHalo, aku {nama} dan aku {makan} makan ayam goreng yang harganya Rp {harga}\")"
      ],
      "metadata": {
        "colab": {
          "base_uri": "https://localhost:8080/"
        },
        "id": "WhKQxEWO_S1J",
        "outputId": "2f55423b-c667-47ac-c930-92ec99d40822"
      },
      "execution_count": null,
      "outputs": [
        {
          "output_type": "stream",
          "name": "stdout",
          "text": [
            "Masukkan nama Anda: caca\n",
            "Berapa harganya?: 24000\n",
            "\n",
            "Halo, aku caca dan aku sudah makan ayam goreng yang harganya Rp 24000\n"
          ]
        }
      ]
    },
    {
      "cell_type": "markdown",
      "source": [
        "## Import Modul"
      ],
      "metadata": {
        "id": "xRJOe2h2AnTx"
      }
    },
    {
      "cell_type": "code",
      "source": [
        "# import seluruh modul\n",
        "import pandas as pd"
      ],
      "metadata": {
        "id": "TUdadkocAdFX"
      },
      "execution_count": null,
      "outputs": []
    },
    {
      "cell_type": "code",
      "source": [
        "import numpy"
      ],
      "metadata": {
        "id": "mQwdMB77AwCD"
      },
      "execution_count": null,
      "outputs": []
    },
    {
      "cell_type": "code",
      "source": [
        "# import beberapa komponen di modul\n",
        "from math import sqrt\n",
        "from pandas import DataFrame\n",
        "from numpy import random"
      ],
      "metadata": {
        "id": "IFo3SAcSAzUB"
      },
      "execution_count": null,
      "outputs": []
    },
    {
      "cell_type": "code",
      "source": [
        "import math"
      ],
      "metadata": {
        "id": "p5ur37AUA3nz"
      },
      "execution_count": null,
      "outputs": []
    },
    {
      "cell_type": "code",
      "source": [
        "bilangan = float(input(\"Masukkan bilangan: \"))\n",
        "hasil = math.sqrt(bilangan)\n",
        "print(f\"Akar kuadrat: {hasil}\")"
      ],
      "metadata": {
        "colab": {
          "base_uri": "https://localhost:8080/"
        },
        "id": "hpw3XkvABwzQ",
        "outputId": "a4d1da1c-aa61-4067-a229-f2992fcf2731"
      },
      "execution_count": null,
      "outputs": [
        {
          "output_type": "stream",
          "name": "stdout",
          "text": [
            "Masukkan bilangan: 9\n",
            "Akar kuadrat: 3.0\n"
          ]
        }
      ]
    },
    {
      "cell_type": "markdown",
      "source": [
        "Kita perlu import math karena fungsi sqrt (menghitung akar kuadrat) adalah bagian dari modul math di Python. Modul math berisi fungsi matematika yang tidak tersedia langsung di Python, seperti sqrt, sin, cos, dll."
      ],
      "metadata": {
        "id": "gyY3X8pJCgNR"
      }
    },
    {
      "cell_type": "markdown",
      "source": [
        "## Operators"
      ],
      "metadata": {
        "id": "abWBRopAKkGv"
      }
    },
    {
      "cell_type": "markdown",
      "source": [
        "Operators adalah simbol yang digunakan untuk melakukan operasi pada data. Python memiliki berbagai jenis operators, yaitu:\n",
        "\n",
        "**Operator Aritmatika**\n",
        "\n",
        "Operator aritmatika digunakan untuk melakukan operasi matematika pada data. Operator aritmatika yang tersedia di Python meliputi:"
      ],
      "metadata": {
        "id": "aMpw7EyFNn9N"
      }
    },
    {
      "cell_type": "markdown",
      "source": [
        "Bentuk outputnya setelah tanda pagar"
      ],
      "metadata": {
        "id": "dj3cbTAmCugc"
      }
    },
    {
      "cell_type": "code",
      "source": [
        "a = 10\n",
        "b = 20\n",
        "\n",
        "c = a + b  # c = 30 (Penjumlahan)\n",
        "d = a - b  # d = -10 (Pengurangan)\n",
        "e = a * b  # e = 200 (Perkalian)\n",
        "f = a / b  # f = 0.5 (Pembagian)\n",
        "g = a ** b # g = 100000000000 (Perpangkatan)\n",
        "h = a % b  # h = 0 (Sisa bagi)\n",
        "i = a // b # i = 0 (Pembagian bulat)"
      ],
      "metadata": {
        "id": "GQJlqfIcKjoy"
      },
      "execution_count": null,
      "outputs": []
    },
    {
      "cell_type": "markdown",
      "source": [
        "**Operator Relasi**\n",
        "\n",
        "Operator relasi digunakan untuk membandingkan dua nilai. Operator relasi yang tersedia di Python meliputi:"
      ],
      "metadata": {
        "id": "teEMgyHvPVed"
      }
    },
    {
      "cell_type": "code",
      "source": [
        "a = 10\n",
        "b = 20\n",
        "\n",
        "c = a == b  # c = False (Sama dengan)\n",
        "d = a != b  # d = True (Tidak sama dengan)\n",
        "e = a > b   # e = False (Lebih dari)\n",
        "f = a < b   # f = True (Kurang dari)\n",
        "g = a >= b  # g = False (Lebih dari atau sama dengan)\n",
        "h = a <= b  # h = True (Kurang dari atau sama dengan)"
      ],
      "metadata": {
        "id": "w9ZeefOLPWJc"
      },
      "execution_count": null,
      "outputs": []
    },
    {
      "cell_type": "markdown",
      "source": [
        "**Operator Penugasan**\n",
        "\n",
        "Operator penugasan digunakan untuk menyimpan nilai ke dalam variabel. Operator penugasan yang tersedia di Python meliputi:"
      ],
      "metadata": {
        "id": "v43qfJAdPYDA"
      }
    },
    {
      "cell_type": "code",
      "source": [
        "a = 10\n",
        "\n",
        "a = a + 1   # a = 11 (Penugasan sederhana)\n",
        "a += 1      # a = 12 (Penugasan dengan penjumlahan)\n",
        "a -= 1      # a = 11 (Penugasan dengan pengurangan)\n",
        "a *= 2      # a = 22 (Penugasan dengan perkalian)\n",
        "a /= 2      # a = 11.0 (Penugasan dengan pembagian)\n",
        "a **= 2     # a = 121.0 (Penugasan dengan perpangkatan)\n",
        "a %= 2      # a = 1.0 (Penugasan dengan sisa bagi)\n",
        "a //= 2     # a = 0.0 (Penugasan dengan pembagian bulat)"
      ],
      "metadata": {
        "id": "9wOKcoH2PW8c"
      },
      "execution_count": null,
      "outputs": []
    },
    {
      "cell_type": "markdown",
      "source": [
        "**Operator Logika**\n",
        "\n",
        "Operator logika digunakan untuk menggabungkan dua atau lebih pernyataan logika. Operator logika yang tersedia di Python meliputi:"
      ],
      "metadata": {
        "id": "2T8pqqrhPWn3"
      }
    },
    {
      "cell_type": "code",
      "source": [
        "a = True\n",
        "b = False\n",
        "\n",
        "c = a and b  # c = False (Dan)\n",
        "d = a or b   # d = True (Atau)\n",
        "e = not a    # e = False (Bukan)"
      ],
      "metadata": {
        "id": "fkkjYmHQQ_v2"
      },
      "execution_count": null,
      "outputs": []
    },
    {
      "cell_type": "markdown",
      "source": [
        "**Operator Keanggotaan/List**\n",
        "\n",
        "Operator keanggotaan digunakan untuk memeriksa apakah suatu nilai termasuk dalam sebuah kumpulan data. Operator keanggotaan yang tersedia di Python meliputi:"
      ],
      "metadata": {
        "id": "QuI1qvb4RIww"
      }
    },
    {
      "cell_type": "code",
      "source": [
        "angka = [1, 2, 3, 4, 5]\n",
        "\n",
        "c = 1 in angka    # c = True (Ada)\n",
        "d = 6 in angka    # d = False (Ada)\n",
        "e = 1 not in angka # e = False (Tidak ada)\n",
        "f = 6 not in angka # f = True (Tidak ada)"
      ],
      "metadata": {
        "id": "uk0m2pSuRJOp"
      },
      "execution_count": null,
      "outputs": []
    },
    {
      "cell_type": "markdown",
      "source": [
        "**Operator Identitas**\n",
        "\n",
        "Operator identitas digunakan untuk memeriksa apakah dua variabel merujuk ke objek yang sama. Operator identitas yang tersedia di Python meliputi:"
      ],
      "metadata": {
        "id": "sTQzzbADSJbA"
      }
    },
    {
      "cell_type": "code",
      "source": [
        "a = 10\n",
        "b = 10\n",
        "\n",
        "c = a is b      # c = True (sama)\n",
        "d = a is not b  # d = False (Tidak sama)\n",
        "e = a = b       # a = b = 10 (sama)\n",
        "f = a is b      # f = True (sama)"
      ],
      "metadata": {
        "id": "CA1qi3d_SKA8"
      },
      "execution_count": null,
      "outputs": []
    },
    {
      "cell_type": "markdown",
      "source": [
        "[link materi operasi] https://github.com/regitapermata30/Modul-Algoritma-Pemrograman/wiki"
      ],
      "metadata": {
        "id": "l6x58bvRUKyX"
      }
    },
    {
      "cell_type": "markdown",
      "source": [
        "## Percabangan"
      ],
      "metadata": {
        "id": "Gjk8Sp8aBCH6"
      }
    },
    {
      "cell_type": "markdown",
      "source": [
        "**Percabangan 'If' (Single Alternative Selection):**\n",
        "\n",
        "digunakan untuk melakukan suatu tindakan jika kondisi tertentu terpenuhi."
      ],
      "metadata": {
        "id": "10mI96nRccwV"
      }
    },
    {
      "cell_type": "code",
      "source": [
        "umur = 20\n",
        "if umur >= 18:\n",
        "   print(\"Anda sudah dewasa.\")"
      ],
      "metadata": {
        "colab": {
          "base_uri": "https://localhost:8080/"
        },
        "id": "WLIM9YcPE5EO",
        "outputId": "09e4c044-46b3-459f-a1d4-0d5990820f06"
      },
      "execution_count": 2,
      "outputs": [
        {
          "output_type": "stream",
          "name": "stdout",
          "text": [
            "Anda sudah dewasa.\n"
          ]
        }
      ]
    },
    {
      "cell_type": "markdown",
      "source": [
        "**Percabangan 'If-Else' (Dual Alternative Selection):**"
      ],
      "metadata": {
        "id": "89Pi_fntE5kG"
      }
    },
    {
      "cell_type": "code",
      "source": [
        "# Menentukan apakah bilangan ganjil atau genap\n",
        "\n",
        "bil = 10\n",
        "\n",
        "if bil % 2 == 0:\n",
        "    print(\"Bilangan genap\")\n",
        "else: #else digunakan ketika tidak ada kondisi yg perlu dicek\n",
        "    print(\"Bilangan ganjil\")"
      ],
      "metadata": {
        "colab": {
          "base_uri": "https://localhost:8080/"
        },
        "id": "bre5m_e9yc5U",
        "outputId": "4141a80d-359b-4e3e-9813-2b6ffad4b1a7"
      },
      "execution_count": null,
      "outputs": [
        {
          "output_type": "stream",
          "name": "stdout",
          "text": [
            "Bilangan genap\n"
          ]
        }
      ]
    },
    {
      "cell_type": "markdown",
      "source": [
        "Pada contoh kode di atas, kita menggunakan perintah if untuk menentukan apakah bilangan tersebut merupakan bilangan ganjil atau genap.\n",
        "\n",
        "* if adalah kata kunci untuk memulai perintah if\n",
        "* bil % 2 == 0 adalah kondisi yang akan diuji\n",
        "* bil == 2 adalah tindakan yang akan dilakukan jika kondisi terpenuhi\n",
        "* else adalah kata kunci untuk memulai blok kode yang akan dijalankan jika kondisi tidak terpenuhi\n",
        "* print(\"Bilangan ganjil\") adalah tindakan yang akan dilakukan jika kondisi tidak terpenuhi"
      ],
      "metadata": {
        "id": "sYTxn9CCdgBo"
      }
    },
    {
      "cell_type": "markdown",
      "source": [
        "**Operator Logika**\n",
        "\n",
        "Operator logika digunakan untuk menggabungkan dua atau lebih kondisi."
      ],
      "metadata": {
        "id": "tQhHbj8seAZ1"
      }
    },
    {
      "cell_type": "code",
      "source": [
        "# Menentukan apakah nilai lebih besar dari 10 dan kurang dari 20\n",
        "\n",
        "nilai = 15\n",
        "\n",
        "if nilai > 10 and nilai < 20:\n",
        "    print(\"Nilai valid\")\n",
        "else:\n",
        "    print(\"Nilai tidak valid\")"
      ],
      "metadata": {
        "colab": {
          "base_uri": "https://localhost:8080/"
        },
        "id": "8971UIvCU-1t",
        "outputId": "d01fbd0e-8a1a-4977-9cbe-ee4975429a3d"
      },
      "execution_count": null,
      "outputs": [
        {
          "output_type": "stream",
          "name": "stdout",
          "text": [
            "Nilai valid\n"
          ]
        }
      ]
    },
    {
      "cell_type": "markdown",
      "source": [],
      "metadata": {
        "id": "38m34XsKEohb"
      }
    },
    {
      "cell_type": "markdown",
      "source": [
        "**Percabangan 'If-Elif-Else' (Multiple Alternative Selection):**\n",
        "\n",
        "Percabangan if bertingkat digunakan untuk menguji lebih dari satu kondisi."
      ],
      "metadata": {
        "id": "80PdFQ-6edbC"
      }
    },
    {
      "cell_type": "code",
      "source": [
        "# Menentukan apakah bilangan positif, negatif, atau nol\n",
        "\n",
        "bil = float(input(\"Masukkan bilangan: \"))\n",
        "\n",
        "if bil > 0:\n",
        "    print(\"Bilangan positif\")\n",
        "elif bil < 0: #kondisi kedua, jika kondisi pertama tidak terpenuhi\n",
        "    print(\"Bilangan negatif\")\n",
        "else:\n",
        "    print(\"Bilangan nol\")"
      ],
      "metadata": {
        "colab": {
          "base_uri": "https://localhost:8080/"
        },
        "id": "DicvB6u9eMxe",
        "outputId": "46f9257f-82e6-40fc-f088-c47ffed6e9a7"
      },
      "execution_count": null,
      "outputs": [
        {
          "output_type": "stream",
          "name": "stdout",
          "text": [
            "Masukkan bilangan: -2.27\n",
            "Bilangan negatif\n"
          ]
        }
      ]
    },
    {
      "cell_type": "markdown",
      "source": [
        "**Pernyataan if Bersarang (*if nested*)**\n",
        "\n",
        "Pernyataan if bersarang digunakan untuk menguji kondisi yang saling bergantung."
      ],
      "metadata": {
        "id": "X6QAtveUfbwg"
      }
    },
    {
      "cell_type": "code",
      "source": [
        "# Menentukan apakah bilangan positif, negatif, atau nol, dan apakah bilangan tersebut merupakan bilangan prima\n",
        "\n",
        "bil = float(input(\"Masukkan bilangan: \"))\n",
        "\n",
        "if bil > 0:\n",
        "    # Bilangan positif\n",
        "    if bil % 2 == 0: #ini if nested nya\n",
        "        print(\"Bilangan positif dan genap\")\n",
        "    else:\n",
        "        print(\"Bilangan positif dan bukan genap\")\n",
        "elif bil < 0:\n",
        "    # Bilangan negatif\n",
        "    print(\"Bilangan negatif\")\n",
        "else:\n",
        "    # Bilangan nol\n",
        "    print(\"Bilangan nol\")"
      ],
      "metadata": {
        "colab": {
          "base_uri": "https://localhost:8080/"
        },
        "id": "1-1-BgqlfBQq",
        "outputId": "355e7ca6-b715-497a-a693-c17ce1ff830a"
      },
      "execution_count": null,
      "outputs": [
        {
          "output_type": "stream",
          "name": "stdout",
          "text": [
            "Masukkan bilangan: 7\n",
            "Bilangan positif dan bukan genap\n"
          ]
        }
      ]
    },
    {
      "cell_type": "markdown",
      "source": [
        "## Perulangan (Looping)"
      ],
      "metadata": {
        "id": "k5agR2Ikg_-y"
      }
    },
    {
      "cell_type": "markdown",
      "source": [
        "**Perintah for**\n",
        "\n",
        "Perintah for digunakan untuk mengulangi blok kode tertentu sejumlah kali. Blok kode tersebut akan dieksekusi sebanyak jumlah elemen dalam iterasi."
      ],
      "metadata": {
        "id": "8z3nYzq_hDge"
      }
    },
    {
      "cell_type": "code",
      "source": [
        "list = [1,2,3,4,5,6] #for loop dalam list\n",
        "for i in list:\n",
        "    print(\"Bos mencaci pegawainya hingga yg ke\", i, \"kalinya\")"
      ],
      "metadata": {
        "colab": {
          "base_uri": "https://localhost:8080/"
        },
        "id": "seoRoOQ6rfJ_",
        "outputId": "f7fdddd3-8284-4810-81dc-0421f40cc7c1"
      },
      "execution_count": 13,
      "outputs": [
        {
          "output_type": "stream",
          "name": "stdout",
          "text": [
            "Bos mencaci pegawainya hingga yg ke 1 kalinya\n",
            "Bos mencaci pegawainya hingga yg ke 2 kalinya\n",
            "Bos mencaci pegawainya hingga yg ke 3 kalinya\n",
            "Bos mencaci pegawainya hingga yg ke 4 kalinya\n",
            "Bos mencaci pegawainya hingga yg ke 5 kalinya\n",
            "Bos mencaci pegawainya hingga yg ke 6 kalinya\n"
          ]
        }
      ]
    },
    {
      "cell_type": "code",
      "source": [
        "for i in range(1,6):\n",
        "    print(\"Bos mencaci pegawainya hingga yg ke\", i, \"kalinya\")"
      ],
      "metadata": {
        "id": "LuvuMv-Vppb9",
        "colab": {
          "base_uri": "https://localhost:8080/"
        },
        "outputId": "503c4fdf-78f4-4222-b45d-fa0072a6fba2"
      },
      "execution_count": 14,
      "outputs": [
        {
          "output_type": "stream",
          "name": "stdout",
          "text": [
            "Bos mencaci pegawainya hingga yg ke 1 kalinya\n",
            "Bos mencaci pegawainya hingga yg ke 2 kalinya\n",
            "Bos mencaci pegawainya hingga yg ke 3 kalinya\n",
            "Bos mencaci pegawainya hingga yg ke 4 kalinya\n",
            "Bos mencaci pegawainya hingga yg ke 5 kalinya\n"
          ]
        }
      ]
    },
    {
      "cell_type": "code",
      "source": [
        "list_angka = range(5)\n",
        "for i in list_angka:\n",
        "    print(f\"Angka sekarang -> {i}\")"
      ],
      "metadata": {
        "colab": {
          "base_uri": "https://localhost:8080/"
        },
        "id": "0i3fQwlXxP1V",
        "outputId": "f014ecb1-420e-4202-d8d8-f7444ec53a7d"
      },
      "execution_count": 12,
      "outputs": [
        {
          "output_type": "stream",
          "name": "stdout",
          "text": [
            "Angka sekarang -> 0\n",
            "Angka sekarang -> 1\n",
            "Angka sekarang -> 2\n",
            "Angka sekarang -> 3\n",
            "Angka sekarang -> 4\n"
          ]
        }
      ]
    },
    {
      "cell_type": "code",
      "source": [
        "for i in range(0,10,2): #angka ketiga dalam range adalah stepnya\n",
        "    print(i)"
      ],
      "metadata": {
        "colab": {
          "base_uri": "https://localhost:8080/"
        },
        "id": "iz7NANrGw_jL",
        "outputId": "19ccfe70-628b-48cf-bc63-34a871fcd671"
      },
      "execution_count": 10,
      "outputs": [
        {
          "output_type": "stream",
          "name": "stdout",
          "text": [
            "0\n",
            "2\n",
            "4\n",
            "6\n",
            "8\n"
          ]
        }
      ]
    },
    {
      "cell_type": "code",
      "source": [
        "for huruf in \"Zahira\":\n",
        "    print(huruf)"
      ],
      "metadata": {
        "colab": {
          "base_uri": "https://localhost:8080/"
        },
        "id": "WTTcKzG2xD0E",
        "outputId": "2527bbb4-ebeb-49bd-b4f7-9e35e23906af"
      },
      "execution_count": 11,
      "outputs": [
        {
          "output_type": "stream",
          "name": "stdout",
          "text": [
            "Z\n",
            "a\n",
            "h\n",
            "i\n",
            "r\n",
            "a\n"
          ]
        }
      ]
    },
    {
      "cell_type": "code",
      "source": [],
      "metadata": {
        "id": "rhvrG-eDy46y"
      },
      "execution_count": null,
      "outputs": []
    },
    {
      "cell_type": "markdown",
      "source": [
        "**perintah while**\n",
        "\n",
        "Perintah while digunakan untuk mengulangi blok kode tertentu selama kondisi tertentu terpenuhi (true)."
      ],
      "metadata": {
        "id": "PHBYEmVYdnT9"
      }
    },
    {
      "cell_type": "code",
      "source": [
        "angka = 3\n",
        "while angka < 6: #batas: hanya berjalan selama <6\n",
        "    angka += 1  # menambah angka agar loop mendekati kondisi, berhenti\n",
        "    print(\"Caca jenius\")"
      ],
      "metadata": {
        "colab": {
          "base_uri": "https://localhost:8080/"
        },
        "id": "mO_rAcmeeFSV",
        "outputId": "a418c80c-ba02-42e9-a0c3-bd8d1a195545"
      },
      "execution_count": 7,
      "outputs": [
        {
          "output_type": "stream",
          "name": "stdout",
          "text": [
            "Caca jenius\n",
            "Caca jenius\n",
            "Caca jenius\n"
          ]
        }
      ]
    },
    {
      "cell_type": "code",
      "source": [
        "angka = 0\n",
        "while angka < 5:\n",
        "    angka += 1\n",
        "    print(f\"Angka skrg -> {angka}\")\n",
        "    print(\"caca jago coding\")"
      ],
      "metadata": {
        "colab": {
          "base_uri": "https://localhost:8080/"
        },
        "id": "ZfWSlVh0eR8-",
        "outputId": "7f5c003b-4dd5-4548-c270-f38413b62ddd"
      },
      "execution_count": 4,
      "outputs": [
        {
          "output_type": "stream",
          "name": "stdout",
          "text": [
            "Angka skrg -> 1\n",
            "caca jago coding\n",
            "Angka skrg -> 2\n",
            "caca jago coding\n",
            "Angka skrg -> 3\n",
            "caca jago coding\n",
            "Angka skrg -> 4\n",
            "caca jago coding\n",
            "Angka skrg -> 5\n",
            "caca jago coding\n"
          ]
        }
      ]
    },
    {
      "cell_type": "markdown",
      "source": [
        "**Nested loops**"
      ],
      "metadata": {
        "id": "LOrRYaVa2aY0"
      }
    },
    {
      "cell_type": "markdown",
      "source": [
        "adalah loop di dalam loop lain. Loop luar menjalankan iterasinya sekali, lalu loop dalam berjalan sepenuhnya untuk setiap iterasi loop luar.  Biasanya untuk bekerja dengan data bersarang (contoh: tabel, matriks, atau pola)."
      ],
      "metadata": {
        "id": "534zWRn67axb"
      }
    },
    {
      "cell_type": "code",
      "source": [
        "for i in range(3):         # Loop luar\n",
        "    for j in range(2):     # Loop dalam\n",
        "        print(f\"i={i}, j={j}\")"
      ],
      "metadata": {
        "colab": {
          "base_uri": "https://localhost:8080/"
        },
        "id": "QRhIiLPc7ubr",
        "outputId": "9fe04d77-fc2a-445c-c6b1-bb757ae99e10"
      },
      "execution_count": 24,
      "outputs": [
        {
          "output_type": "stream",
          "name": "stdout",
          "text": [
            "i=0, j=0\n",
            "i=0, j=1\n",
            "i=1, j=0\n",
            "i=1, j=1\n",
            "i=2, j=0\n",
            "i=2, j=1\n"
          ]
        }
      ]
    },
    {
      "cell_type": "code",
      "source": [
        "for i in range(5): # Loop luar: untuk baris\n",
        "    for j in range (i+1): # Loop dalam: untuk jumlah bintang di tiap baris\n",
        "        print(\"*\", end=\" \") # Cetak bintang di baris, tanpa pindah baris\n",
        "    print(' ') # Pindah ke baris baru setelah selesai satu baris"
      ],
      "metadata": {
        "colab": {
          "base_uri": "https://localhost:8080/"
        },
        "id": "OHDQCZBk2E_I",
        "outputId": "43523f3d-9d5d-4c98-f825-41f0febdb567"
      },
      "execution_count": 18,
      "outputs": [
        {
          "output_type": "stream",
          "name": "stdout",
          "text": [
            "*  \n",
            "* *  \n",
            "* * *  \n",
            "* * * *  \n",
            "* * * * *  \n"
          ]
        }
      ]
    },
    {
      "cell_type": "code",
      "source": [
        "n = 4\n",
        "for i in range(n):\n",
        "    for j in range(i+1):\n",
        "        print(i+j, end=\" \")\n",
        "    print()"
      ],
      "metadata": {
        "colab": {
          "base_uri": "https://localhost:8080/"
        },
        "id": "O-tlTSvj3cyv",
        "outputId": "af4dc5cb-a655-4dec-8dd2-29ddb73e091e"
      },
      "execution_count": 19,
      "outputs": [
        {
          "output_type": "stream",
          "name": "stdout",
          "text": [
            "0 \n",
            "1 2 \n",
            "2 3 4 \n",
            "3 4 5 6 \n"
          ]
        }
      ]
    },
    {
      "cell_type": "markdown",
      "source": [
        "## Break, Continue, Pass"
      ],
      "metadata": {
        "id": "XaGoLijgwwMV"
      }
    },
    {
      "cell_type": "markdown",
      "source": [
        "**Perintah break**\n",
        "\n",
        "Perintah break digunakan untuk menghentikan eksekusi loop saat ini."
      ],
      "metadata": {
        "id": "Z55L41BAe5_D"
      }
    },
    {
      "cell_type": "code",
      "source": [
        "for i in range(1, 11):\n",
        "    if i == 5:\n",
        "        break\n",
        "    print(i)"
      ],
      "metadata": {
        "colab": {
          "base_uri": "https://localhost:8080/"
        },
        "id": "fSg2KmFLdynS",
        "outputId": "2cda763b-6297-4597-86ed-66db9a90ade4"
      },
      "execution_count": 7,
      "outputs": [
        {
          "output_type": "stream",
          "name": "stdout",
          "text": [
            "1\n",
            "2\n",
            "3\n",
            "4\n"
          ]
        }
      ]
    },
    {
      "cell_type": "code",
      "source": [
        "# Break\n",
        "angka=0\n",
        "print(f\"Angka sekarang -> {angka}\")\n",
        "\n",
        "while angka < 5:\n",
        "    angka +=1\n",
        "    print(f\"Angka sekarang -> {angka}\")\n",
        "\n",
        "    if angka ==3:\n",
        "        print(\"GOOD!\")\n",
        "        break\n",
        "\n",
        "    print(f\"yooo semangad.\")\n",
        "print(f\"cukup sudah\")"
      ],
      "metadata": {
        "colab": {
          "base_uri": "https://localhost:8080/"
        },
        "id": "E_jgHnGS1bSr",
        "outputId": "16cda57b-0a3e-441f-d799-5e6faa18f063"
      },
      "execution_count": 16,
      "outputs": [
        {
          "output_type": "stream",
          "name": "stdout",
          "text": [
            "Angka sekarang -> 0\n",
            "Angka sekarang -> 1\n",
            "yooo semangad.\n",
            "Angka sekarang -> 2\n",
            "yooo semangad.\n",
            "Angka sekarang -> 3\n",
            "GOOD!\n",
            "cukup sudah\n"
          ]
        }
      ]
    },
    {
      "cell_type": "markdown",
      "source": [
        "**Perintah continue**\n",
        "\n",
        "Perintah continue digunakan untuk menghentikan eksekusi blok kode saat ini, tetapi melanjutkan ke iterasi berikutnya."
      ],
      "metadata": {
        "id": "bRAqKNG4g2AF"
      }
    },
    {
      "cell_type": "code",
      "source": [
        "for i in range(1, 11):\n",
        "    if i % 2 == 0:\n",
        "        continue\n",
        "    print(i)"
      ],
      "metadata": {
        "colab": {
          "base_uri": "https://localhost:8080/"
        },
        "id": "6mIBJaqRD4xE",
        "outputId": "866f258e-b43b-4d6a-9fb8-ed278feb063a"
      },
      "execution_count": 8,
      "outputs": [
        {
          "output_type": "stream",
          "name": "stdout",
          "text": [
            "1\n",
            "3\n",
            "5\n",
            "7\n",
            "9\n"
          ]
        }
      ]
    },
    {
      "cell_type": "code",
      "source": [
        "# Continue\n",
        "angka=0\n",
        "print(f\"Angka sekarang -> {angka}\")\n",
        "\n",
        "while angka < 5:\n",
        "    angka +=1\n",
        "    print(f\"Angka sekarang -> {angka}\")\n",
        "\n",
        "    if angka ==3:\n",
        "        print(\"GOOD!\")\n",
        "        continue\n",
        "\n",
        "    print(f\"yooo semangad.\")\n",
        "print(f\"cukup sudah\")"
      ],
      "metadata": {
        "colab": {
          "base_uri": "https://localhost:8080/"
        },
        "id": "Wn_o8Lc71Xp_",
        "outputId": "01b262bc-d36c-4249-ec00-ff4e48199aa3"
      },
      "execution_count": 15,
      "outputs": [
        {
          "output_type": "stream",
          "name": "stdout",
          "text": [
            "Angka sekarang -> 0\n",
            "Angka sekarang -> 1\n",
            "yooo semangad.\n",
            "Angka sekarang -> 2\n",
            "yooo semangad.\n",
            "Angka sekarang -> 3\n",
            "GOOD!\n",
            "Angka sekarang -> 4\n",
            "yooo semangad.\n",
            "Angka sekarang -> 5\n",
            "yooo semangad.\n",
            "cukup sudah\n"
          ]
        }
      ]
    },
    {
      "cell_type": "markdown",
      "source": [
        "**Perintah pass**\n",
        "\n",
        "Perintah pass digunakan saat Anda perlu menulis blok kode kosong tanpa melakukan apa-apa, agar kode tidak error."
      ],
      "metadata": {
        "id": "LmapGZRIwPmj"
      }
    },
    {
      "cell_type": "code",
      "source": [
        "# pass -> dia berfungsi sebagai dummy, tidak akan dieksekusi\n",
        "\n",
        "angka=0\n",
        "\n",
        "while angka<5:\n",
        "    angka+=1\n",
        "    if angka ==3:\n",
        "        pass\n",
        "    print(angka)"
      ],
      "metadata": {
        "colab": {
          "base_uri": "https://localhost:8080/"
        },
        "id": "J5zC48irv-WP",
        "outputId": "32b68eba-46b0-42e9-bc24-2b9e23a73f5e"
      },
      "execution_count": 9,
      "outputs": [
        {
          "output_type": "stream",
          "name": "stdout",
          "text": [
            "1\n",
            "2\n",
            "3\n",
            "4\n",
            "5\n"
          ]
        }
      ]
    },
    {
      "cell_type": "markdown",
      "source": [
        "## Fungsi len\n",
        "\n",
        "Fungsi len digunakan untuk menghitung jumlah elemen dalam sebuah objek, seperti list, tuple, string, atau dictionary."
      ],
      "metadata": {
        "id": "_ix2xeJl6Lw4"
      }
    },
    {
      "cell_type": "code",
      "source": [
        "# Menggunakan len pada berbagai tipe data\n",
        "data_list = [10, 20, 30, 40]\n",
        "data_string = \"Python\"\n",
        "data_dict = {\"a\": 1, \"b\": 2, \"c\": 3}\n",
        "\n",
        "print(len(data_list))    # Output: 4 (ada 4 elemen dalam list)\n",
        "print(len(data_string))  # Output: 6 (ada 6 karakter dalam string)\n",
        "print(len(data_dict))    # Output: 3 (ada 3 kunci dalam dictionary)"
      ],
      "metadata": {
        "colab": {
          "base_uri": "https://localhost:8080/"
        },
        "id": "bZLKUwzW6mFD",
        "outputId": "b8323267-7c02-4b4f-93f3-fbe1afba0e61"
      },
      "execution_count": 21,
      "outputs": [
        {
          "output_type": "stream",
          "name": "stdout",
          "text": [
            "4\n",
            "6\n",
            "3\n"
          ]
        }
      ]
    },
    {
      "cell_type": "markdown",
      "source": [
        "## Fungsi Sum\n",
        "\n",
        "Fungsi sum digunakan untuk menghitung total nilai dari elemen-elemen numerik dalam sebuah iterable (seperti list atau tuple)."
      ],
      "metadata": {
        "id": "vWS-NOz06s9G"
      }
    },
    {
      "cell_type": "code",
      "source": [
        "# Menggunakan sum untuk menghitung total elemen\n",
        "data_list = [10, 20, 30, 40]\n",
        "data_tuple = (1, 2, 3, 4)\n",
        "\n",
        "print(sum(data_list))    # Output: 100 (10 + 20 + 30 + 40)\n",
        "print(sum(data_tuple))   # Output: 10 (1 + 2 + 3 + 4)"
      ],
      "metadata": {
        "colab": {
          "base_uri": "https://localhost:8080/"
        },
        "id": "OPkEf7Cz60WK",
        "outputId": "1dc21730-ed79-4bf9-cd44-e393f5af98fc"
      },
      "execution_count": 23,
      "outputs": [
        {
          "output_type": "stream",
          "name": "stdout",
          "text": [
            "100\n",
            "10\n"
          ]
        }
      ]
    },
    {
      "cell_type": "markdown",
      "source": [
        "Biasanya, len dan sum sering digunakan bersama untuk menghitung rata-rata."
      ],
      "metadata": {
        "id": "WfAT54Xd6_S9"
      }
    },
    {
      "cell_type": "markdown",
      "source": [
        "### tugas presentasi mandiri"
      ],
      "metadata": {
        "id": "gr7Ynllb451J"
      }
    },
    {
      "cell_type": "code",
      "source": [
        "total_pembelian = float(input(\"Masukkan total pembelian\"))\n",
        "\n",
        "# Menghitung diskon berdasarkan total pembelian\n",
        "if total_pembelian > 1000000:\n",
        "    diskon = 0.10*total_pembelian\n",
        "elif total_pembelian >= 500000 and total_pembelian <= 1000000:\n",
        "    diskon = 0.05*total_pembelian\n",
        "else:\n",
        "    diskon = 0\n",
        "print(\"Diskon yang Anda terima adalah: \", diskon)\n",
        "\n",
        "total_setelah_diskon = total_pembelian - diskon\n",
        "print(\"Total pembelian anda adalah: \", total_setelah_diskon)"
      ],
      "metadata": {
        "colab": {
          "base_uri": "https://localhost:8080/"
        },
        "id": "sdIAOfrW49zM",
        "outputId": "ce42854a-6628-4092-c0c5-dcdb6266ff15"
      },
      "execution_count": 20,
      "outputs": [
        {
          "output_type": "stream",
          "name": "stdout",
          "text": [
            "Masukkan total pembelian555555\n",
            "Diskon yang Anda terima adalah:  27777.75\n",
            "Total pembelian anda adalah:  527777.25\n"
          ]
        }
      ]
    },
    {
      "cell_type": "markdown",
      "source": [
        "### ujian"
      ],
      "metadata": {
        "id": "88povLlPBcU9"
      }
    },
    {
      "cell_type": "code",
      "source": [
        "harga_buku = [30,25,40,20,35]\n",
        "penjualan_buku = [5,3,4,10,6]\n",
        "nama_buku = ['A', 'B', 'C', 'D', 'E']\n",
        "\n",
        "total_pendapatan = 0\n",
        "for i in range(len(harga_buku)):\n",
        "    pendapatan = harga_buku[i] * penjualan_buku[i]\n",
        "    total_pendapatan += pendapatan\n",
        "    print(f\"Pendapatan dari Buku {nama_buku[i]} : {pendapatan} ribu IDR ({harga_buku[i]} * {penjualan_buku[i]})\")\n",
        "\n",
        "print(f\"\\nTotal pendapatan dari penjualan semua buku: {total_pendapatan} ribu IDR\")"
      ],
      "metadata": {
        "colab": {
          "base_uri": "https://localhost:8080/"
        },
        "id": "rh6aqKgJ5Cys",
        "outputId": "c1609ca3-d52d-41d2-c220-c7ed521c73d9"
      },
      "execution_count": 25,
      "outputs": [
        {
          "output_type": "stream",
          "name": "stdout",
          "text": [
            "Pendapatan dari Buku A : 150 ribu IDR (30 * 5)\n",
            "Pendapatan dari Buku B : 75 ribu IDR (25 * 3)\n",
            "Pendapatan dari Buku C : 160 ribu IDR (40 * 4)\n",
            "Pendapatan dari Buku D : 200 ribu IDR (20 * 10)\n",
            "Pendapatan dari Buku E : 210 ribu IDR (35 * 6)\n",
            "\n",
            "Total pendapatan dari penjualan semua buku: 795 ribu IDR\n"
          ]
        }
      ]
    },
    {
      "cell_type": "code",
      "source": [
        "usia_anak = [8,12,9,16,14,16,4,10]\n",
        "total_uang_saku = 0\n",
        "\n",
        "for i in usia_anak:\n",
        "    if i < 10:\n",
        "        uang_saku_per_minggu = 10\n",
        "    elif i <= 15:\n",
        "        uang_saku_per_minggu = 15\n",
        "    else:\n",
        "        uang_saku_per_minggu = 20\n",
        "    total_uang_saku += uang_saku_per_minggu\n",
        "\n",
        "print(f\"Total uang saku yang diberikan kepada semua anak Keluarga Wijaya dalam satu minggu adalah: ${total_uang_saku}\")"
      ],
      "metadata": {
        "colab": {
          "base_uri": "https://localhost:8080/"
        },
        "id": "AmuDvXo5BZkK",
        "outputId": "10d9e448-2bf0-4569-e091-c9b58990f774"
      },
      "execution_count": 26,
      "outputs": [
        {
          "output_type": "stream",
          "name": "stdout",
          "text": [
            "Total uang saku yang diberikan kepada semua anak Keluarga Wijaya dalam satu minggu adalah: $115\n"
          ]
        }
      ]
    },
    {
      "cell_type": "code",
      "source": [],
      "metadata": {
        "id": "EXn-27UoBriy"
      },
      "execution_count": null,
      "outputs": []
    }
  ]
}